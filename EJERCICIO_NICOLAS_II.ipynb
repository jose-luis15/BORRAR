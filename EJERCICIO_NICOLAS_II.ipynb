{
  "nbformat": 4,
  "nbformat_minor": 0,
  "metadata": {
    "colab": {
      "name": "Untitled2.ipynb",
      "provenance": [],
      "authorship_tag": "ABX9TyNXmlSAHCLUYWDzCQIwnqZS",
      "include_colab_link": true
    },
    "kernelspec": {
      "name": "python3",
      "display_name": "Python 3"
    },
    "language_info": {
      "name": "python"
    }
  },
  "cells": [
    {
      "cell_type": "markdown",
      "metadata": {
        "id": "view-in-github",
        "colab_type": "text"
      },
      "source": [
        "<a href=\"https://colab.research.google.com/github/jose-luis15/BORRAR/blob/master/EJERCICIO_NICOLAS_II.ipynb\" target=\"_parent\"><img src=\"https://colab.research.google.com/assets/colab-badge.svg\" alt=\"Open In Colab\"/></a>"
      ]
    },
    {
      "cell_type": "code",
      "metadata": {
        "colab": {
          "base_uri": "https://localhost:8080/",
          "height": 545
        },
        "id": "ZfSWJtKQj2yX",
        "outputId": "21c3cc8f-eb1f-4529-9637-89acd127a156"
      },
      "source": [
        "import pandas as np\n",
        "import pandas as pd\n",
        "\n",
        "print(f\"---BIENVENIDO A LA CLINICA PERUANO JAPONES---\\n -----------------------------------------\")\n",
        "print(\"\\n Datos del Paciente\")\n",
        "\n",
        "data = list()\n",
        "result = [\"Nombres y Apellidos\", \"DNI\",\"edad\",\"categoria segun edad\",\"lugar de nacimiento\",\"domicilio\",\"celular\",\"tipo de sandre\",\"observación\"]\n",
        "\n",
        "data.append(input(\"Ingresar Nombre(s) y Apellidos: \"))\n",
        "data.append(input(\"Ingresar DNI: \"))\n",
        "edad = int(input(\"Ingresar Edad: \"))\n",
        "data.append(edad)\n",
        "\n",
        "if edad >= 18:\n",
        "    data.append(\"Es mayor de edad\")\n",
        "else:\n",
        "    data.append(\"No es mayor de edad\")\n",
        "\n",
        "data.append(input(\"lugar donde nacio \"))\n",
        "data.append(input(\"Ingresar Domicilio: \"))\n",
        "data.append(int(input(\"Ingresar Celular: \")))\n",
        "sangre = input(\"ingrese tipo de sangre \")\n",
        "data.append(sangre)\n",
        "\n",
        "if (sangre == \"a\"):\n",
        "    data.append(\"su sangre es del tipo comun\")\n",
        "elif (sangre == \"b\"):\n",
        "    data.append(\"su tipo de sangre no es tan comun\")\n",
        "elif (sangre == \"ab\"):\n",
        "    data.append(\"su tipo de sangre no es tan comun\")\n",
        "elif (sangre == \"ba\"):\n",
        "    data.append(\"su tipo de sangre no es tan comun\")\n",
        "else:\n",
        "    data.append(\"No sabe que tipo de sangre tiene\")\n",
        "\n",
        "df = pd.DataFrame(list(zip(result,data)), columns = ['REQUERIMIENTO','RECOPILADO'])\n",
        "\n",
        "print(\"\\nGracias por llenar datos del paciente ..!!!\")\n",
        "\n",
        "df"
      ],
      "execution_count": 2,
      "outputs": [
        {
          "output_type": "stream",
          "text": [
            "---BIENVENIDO A LA CLINICA PERUANO JAPONES---\n",
            " -----------------------------------------\n",
            "\n",
            " Datos del Paciente\n",
            "Ingresar Nombre(s) y Apellidos: jose\n",
            "Ingresar DNI: 456\n",
            "Ingresar Edad: 45\n",
            "lugar donde nacio villa\n",
            "Ingresar Domicilio: df\n",
            "Ingresar Celular: 456\n",
            "ingrese tipo de sangre ab\n",
            "\n",
            "Gracias por llenar datos del paciente ..!!!\n"
          ],
          "name": "stdout"
        },
        {
          "output_type": "execute_result",
          "data": {
            "text/html": [
              "<div>\n",
              "<style scoped>\n",
              "    .dataframe tbody tr th:only-of-type {\n",
              "        vertical-align: middle;\n",
              "    }\n",
              "\n",
              "    .dataframe tbody tr th {\n",
              "        vertical-align: top;\n",
              "    }\n",
              "\n",
              "    .dataframe thead th {\n",
              "        text-align: right;\n",
              "    }\n",
              "</style>\n",
              "<table border=\"1\" class=\"dataframe\">\n",
              "  <thead>\n",
              "    <tr style=\"text-align: right;\">\n",
              "      <th></th>\n",
              "      <th>REQUERIMIENTO</th>\n",
              "      <th>RECOPILADO</th>\n",
              "    </tr>\n",
              "  </thead>\n",
              "  <tbody>\n",
              "    <tr>\n",
              "      <th>0</th>\n",
              "      <td>Nombres y Apellidos</td>\n",
              "      <td>jose</td>\n",
              "    </tr>\n",
              "    <tr>\n",
              "      <th>1</th>\n",
              "      <td>DNI</td>\n",
              "      <td>456</td>\n",
              "    </tr>\n",
              "    <tr>\n",
              "      <th>2</th>\n",
              "      <td>edad</td>\n",
              "      <td>45</td>\n",
              "    </tr>\n",
              "    <tr>\n",
              "      <th>3</th>\n",
              "      <td>categoria segun edad</td>\n",
              "      <td>Es mayor de edad</td>\n",
              "    </tr>\n",
              "    <tr>\n",
              "      <th>4</th>\n",
              "      <td>lugar de nacimiento</td>\n",
              "      <td>villa</td>\n",
              "    </tr>\n",
              "    <tr>\n",
              "      <th>5</th>\n",
              "      <td>domicilio</td>\n",
              "      <td>df</td>\n",
              "    </tr>\n",
              "    <tr>\n",
              "      <th>6</th>\n",
              "      <td>celular</td>\n",
              "      <td>456</td>\n",
              "    </tr>\n",
              "    <tr>\n",
              "      <th>7</th>\n",
              "      <td>tipo de sandre</td>\n",
              "      <td>ab</td>\n",
              "    </tr>\n",
              "    <tr>\n",
              "      <th>8</th>\n",
              "      <td>observación</td>\n",
              "      <td>su tipo de sangre no es tan comun</td>\n",
              "    </tr>\n",
              "  </tbody>\n",
              "</table>\n",
              "</div>"
            ],
            "text/plain": [
              "          REQUERIMIENTO                         RECOPILADO\n",
              "0   Nombres y Apellidos                               jose\n",
              "1                   DNI                                456\n",
              "2                  edad                                 45\n",
              "3  categoria segun edad                   Es mayor de edad\n",
              "4   lugar de nacimiento                              villa\n",
              "5             domicilio                                 df\n",
              "6               celular                                456\n",
              "7        tipo de sandre                                 ab\n",
              "8           observación  su tipo de sangre no es tan comun"
            ]
          },
          "metadata": {
            "tags": []
          },
          "execution_count": 2
        }
      ]
    }
  ]
}